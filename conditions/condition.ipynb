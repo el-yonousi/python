{
 "cells": [
  {
   "cell_type": "markdown",
   "metadata": {},
   "source": [
    "> what is a condition?"
   ]
  },
  {
   "cell_type": "code",
   "execution_count": 5,
   "metadata": {},
   "outputs": [
    {
     "name": "stdout",
     "output_type": "stream",
     "text": [
      "corona die\n"
     ]
    }
   ],
   "source": [
    "date = 2022\n",
    "\n",
    "# condion format in python\n",
    "if date == 2022:\n",
    "    print(\"corona die\")\n",
    "else:\n",
    "    print(\"corona still kill people\")"
   ]
  },
  {
   "cell_type": "code",
   "execution_count": 6,
   "metadata": {},
   "outputs": [
    {
     "name": "stdout",
     "output_type": "stream",
     "text": [
      "corona die\n"
     ]
    }
   ],
   "source": [
    "date = 2022\n",
    "\n",
    "# condion format in python\n",
    "if not date == 2022: # if date != 2022:\n",
    "    print(\"corona still kill people\")\n",
    "else:\n",
    "    print(\"corona die\")\n"
   ]
  },
  {
   "cell_type": "code",
   "execution_count": 22,
   "metadata": {},
   "outputs": [
    {
     "name": "stdout",
     "output_type": "stream",
     "text": [
      "7.142857142857143\n"
     ]
    }
   ],
   "source": [
    "nb1 = input(\"entre nb1 value: \".capitalize())\n",
    "nb2 = input(\"entre nb2 value: \".capitalize())\n",
    "\n",
    "if not nb2 == \"0\":\n",
    "    result = float(nb1) / float(nb2)\n",
    "    print(result)\n",
    "else:\n",
    "    print(\"nb1: \", nb1)\n",
    "    print(\"nb2: \", nb2)\n"
   ]
  },
  {
   "cell_type": "markdown",
   "metadata": {},
   "source": [
    "~~~python\n",
    "< lower\n",
    "> higher\n",
    "<= less or equal\n",
    ">= greater than or equal"
   ]
  },
  {
   "cell_type": "markdown",
   "metadata": {},
   "source": [
    "> Exercise \n",
    ">> write a program to solve a first degree equation\n",
    "$$Ax + B = 0$$\n",
    "\n",
    "$$A = 0 , B = 0: equation R$$\n",
    "$$A = 0 , B != 0: imposible$$\n",
    "$$A != 0: X = -B / A$$\n",
    "\n"
   ]
  },
  {
   "cell_type": "code",
   "execution_count": 27,
   "metadata": {},
   "outputs": [
    {
     "name": "stdout",
     "output_type": "stream",
     "text": [
      "x:  -0.5\n"
     ]
    }
   ],
   "source": [
    "a = int(input(\"enter A value: \").capitalize())\n",
    "b = int(input(\"enter B value: \").capitalize())\n",
    "\n",
    "if a == 0:\n",
    "    if b == 0:\n",
    "        print(\"equation R\")\n",
    "    else:\n",
    "        print(\"equation imposible\")\n",
    "else:\n",
    "    x = -b / a\n",
    "    print(\"x: \", x)\n"
   ]
  },
  {
   "cell_type": "code",
   "execution_count": null,
   "metadata": {},
   "outputs": [
    {
     "name": "stdout",
     "output_type": "stream",
     "text": [
      "3 lower 10\n"
     ]
    }
   ],
   "source": [
    "a = int(input(\"enter a value: \").capitalize())\n",
    "\n",
    "if a == 10:\n",
    "    print(a, \" equal 10\")\n",
    "\n",
    "if a > 5:\n",
    "    print(a, \" higher 5\")\n",
    "elif a < 10:\n",
    "    print(a, \"lower 10\")\n",
    "else:\n",
    "    print(\"someting else\")"
   ]
  },
  {
   "cell_type": "code",
   "execution_count": 33,
   "metadata": {},
   "outputs": [
    {
     "name": "stdout",
     "output_type": "stream",
     "text": [
      "a = 2 & b = 3\n",
      "a = 2 or b = 3\n",
      "something wrong\n"
     ]
    }
   ],
   "source": [
    "a, b = 2, 3\n",
    "if a == 2 and b == 3:   # and \n",
    "    print(\"a = 2 & b = 3\")\n",
    "else:\n",
    "    print(\"something wrong\")\n",
    "\n",
    "if a == 2 or b == 3:   # or \n",
    "    print(\"a = 2 or b = 3\")\n",
    "else:\n",
    "    print(\"something wrong\")\n",
    "\n",
    "if (a == 2) ^ (b == 3):   # xor \n",
    "    print(\"a = 2 xor b = 3\")\n",
    "else:\n",
    "    print(\"something wrong\")"
   ]
  },
  {
   "cell_type": "markdown",
   "metadata": {},
   "source": [
    "-   | -  | and | or | xor \n",
    "----|---|-----|----|-----\n",
    "true|false|   false  |  true     | true\n",
    "false|true|  false   |   true    |true\n",
    "true|true|   true  |    true   |false\n",
    "false|false|  false   |    false   |false"
   ]
  },
  {
   "cell_type": "markdown",
   "metadata": {},
   "source": [
    "> Exercice\n",
    ">> write a program to solve second degree equation\n",
    "$$A^2 + Bx + C = 0$$\n",
    "\n",
    "calc delta: $$Δ = B^2 - 4AC$$"
   ]
  },
  {
   "cell_type": "code",
   "execution_count": 41,
   "metadata": {},
   "outputs": [
    {
     "ename": "TypeError",
     "evalue": "'tuple' object is not callable",
     "output_type": "error",
     "traceback": [
      "\u001b[1;31m---------------------------------------------------------------------------\u001b[0m",
      "\u001b[1;31mTypeError\u001b[0m                                 Traceback (most recent call last)",
      "\u001b[1;32mc:\\Users\\melyo\\Documents\\github\\dizern\\python\\conditions\\condition.ipynb Cell 12'\u001b[0m in \u001b[0;36m<cell line: 7>\u001b[1;34m()\u001b[0m\n\u001b[0;32m      <a href='vscode-notebook-cell:/c%3A/Users/melyo/Documents/github/dizern/python/conditions/condition.ipynb#ch0000018?line=2'>3</a>\u001b[0m c \u001b[39m=\u001b[39m \u001b[39mint\u001b[39m(\u001b[39minput\u001b[39m(\u001b[39m\"\u001b[39m\u001b[39menter C value: \u001b[39m\u001b[39m\"\u001b[39m)\u001b[39m.\u001b[39mcapitalize())\n\u001b[0;32m      <a href='vscode-notebook-cell:/c%3A/Users/melyo/Documents/github/dizern/python/conditions/condition.ipynb#ch0000018?line=4'>5</a>\u001b[0m delta \u001b[39m=\u001b[39m b\u001b[39m*\u001b[39m\u001b[39m*\u001b[39m\u001b[39m2\u001b[39m \u001b[39m-\u001b[39m (\u001b[39m4\u001b[39m \u001b[39m*\u001b[39m a \u001b[39m*\u001b[39m c)\n\u001b[1;32m----> <a href='vscode-notebook-cell:/c%3A/Users/melyo/Documents/github/dizern/python/conditions/condition.ipynb#ch0000018?line=6'>7</a>\u001b[0m \u001b[39mprint\u001b[39;49m(delta)\n",
      "\u001b[1;31mTypeError\u001b[0m: 'tuple' object is not callable"
     ]
    }
   ],
   "source": [
    "a = int(input(\"enter A value: \").capitalize())\n",
    "b = int(input(\"enter B value: \").capitalize())\n",
    "c = int(input(\"enter C value: \").capitalize())\n",
    "\n",
    "delta = b**2 - (4 * a * c)\n",
    "\n",
    "print(delta)\n"
   ]
  }
 ],
 "metadata": {
  "kernelspec": {
   "display_name": "Python 3.10.4 64-bit",
   "language": "python",
   "name": "python3"
  },
  "language_info": {
   "codemirror_mode": {
    "name": "ipython",
    "version": 3
   },
   "file_extension": ".py",
   "mimetype": "text/x-python",
   "name": "python",
   "nbconvert_exporter": "python",
   "pygments_lexer": "ipython3",
   "version": "3.10.4"
  },
  "orig_nbformat": 4,
  "vscode": {
   "interpreter": {
    "hash": "1aaa4c0a7ae47a6be27a008c8243a275ca16fe34808101a702ca972a1e462bee"
   }
  }
 },
 "nbformat": 4,
 "nbformat_minor": 2
}
