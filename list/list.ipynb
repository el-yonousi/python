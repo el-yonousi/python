{
 "cells": [
  {
   "cell_type": "markdown",
   "metadata": {},
   "source": [
    "> lists"
   ]
  },
  {
   "cell_type": "code",
   "execution_count": 45,
   "metadata": {},
   "outputs": [
    {
     "name": "stdout",
     "output_type": "stream",
     "text": [
      "['girafe', 'tigre', 'singe', 'mouse']\n",
      "singe\n",
      "4\n",
      "<class 'list'>\n"
     ]
    }
   ],
   "source": [
    "animals = [\"girafe\", \"tigre\", \"singe\", \"mouse\"]\n",
    "\n",
    "print(animals) # all items\n",
    "print(animals[2]) # by index\n",
    "print(len(animals)) # lenght of list\n",
    "print(type(animals)) # check type"
   ]
  },
  {
   "cell_type": "code",
   "execution_count": 46,
   "metadata": {},
   "outputs": [
    {
     "name": "stdout",
     "output_type": "stream",
     "text": [
      "<class 'list'>\n"
     ]
    }
   ],
   "source": [
    "lst = list()\n",
    "print(type(lst)) # check type"
   ]
  },
  {
   "cell_type": "code",
   "execution_count": 47,
   "metadata": {},
   "outputs": [
    {
     "name": "stdout",
     "output_type": "stream",
     "text": [
      "<class 'list'>\n"
     ]
    }
   ],
   "source": [
    "lst = []\n",
    "print(type(lst)) # check type"
   ]
  },
  {
   "cell_type": "code",
   "execution_count": 48,
   "metadata": {},
   "outputs": [
    {
     "name": "stdout",
     "output_type": "stream",
     "text": [
      "girafe\n",
      "tigre\n",
      "mouse\n",
      "['tigre', ['singe', 'cat']]\n",
      "cat\n"
     ]
    }
   ],
   "source": [
    "animals = [\"girafe\", \"tigre\", [\"singe\", \"cat\"], \"mouse\"]\n",
    "\n",
    "print(animals[0])\n",
    "print(animals[1])\n",
    "print(animals[3])\n",
    "print(animals[1:3])\n",
    "print(animals[2][1])"
   ]
  },
  {
   "cell_type": "code",
   "execution_count": 49,
   "metadata": {},
   "outputs": [
    {
     "name": "stdout",
     "output_type": "stream",
     "text": [
      "['girafe', 'tigre', ['dog', 'cat'], 'mouse']\n"
     ]
    }
   ],
   "source": [
    "animals = [\"girafe\", \"tigre\", [\"singe\", \"cat\"], \"mouse\"]\n",
    "animals[2][0] = \"dog\" # replace\n",
    "\n",
    "print(animals)"
   ]
  },
  {
   "cell_type": "code",
   "execution_count": 50,
   "metadata": {},
   "outputs": [
    {
     "name": "stdout",
     "output_type": "stream",
     "text": [
      "['girafe', 'tigre', ['singe', 'cat', 'dog'], 'mouse']\n"
     ]
    }
   ],
   "source": [
    "animals = [\"girafe\", \"tigre\", [\"singe\", \"cat\"], \"mouse\"]\n",
    "animals[2].append(\"dog\") # add in the end of list\n",
    "\n",
    "print(animals)"
   ]
  },
  {
   "cell_type": "code",
   "execution_count": 51,
   "metadata": {},
   "outputs": [
    {
     "name": "stdout",
     "output_type": "stream",
     "text": [
      "['girafe', 'tigre']\n"
     ]
    }
   ],
   "source": [
    "animals = [\"girafe\", \"tigre\", [\"singe\", \"cat\"], \"mouse\"]\n",
    "animals[2].remove(\"singe\")\n",
    "del animals[2][0]\n",
    "animals.pop()\n",
    "animals.pop(2)\n",
    "print(animals)"
   ]
  },
  {
   "cell_type": "code",
   "execution_count": 52,
   "metadata": {},
   "outputs": [
    {
     "name": "stdout",
     "output_type": "stream",
     "text": [
      "['girafe', 'tigre', ['dog', 'singe', 'cat'], 'mouse']\n"
     ]
    }
   ],
   "source": [
    "animals = [\"girafe\", \"tigre\", [\"singe\", \"cat\"], \"mouse\"]\n",
    "animals[2].insert(0, \"dog\")\n",
    "print(animals)"
   ]
  },
  {
   "cell_type": "code",
   "execution_count": 53,
   "metadata": {},
   "outputs": [
    {
     "name": "stdout",
     "output_type": "stream",
     "text": [
      "['mouse', ['singe', 'cat'], 'tigre', 'girafe']\n"
     ]
    }
   ],
   "source": [
    "animals = [\"girafe\", \"tigre\", [\"singe\", \"cat\"], \"mouse\"]\n",
    "animals.reverse()\n",
    "print(animals)"
   ]
  },
  {
   "cell_type": "code",
   "execution_count": 54,
   "metadata": {},
   "outputs": [
    {
     "name": "stdout",
     "output_type": "stream",
     "text": [
      "4\n"
     ]
    }
   ],
   "source": [
    "animals = [\"girafe\", \"tigre\", [\"singe\", \"cat\"], \"mouse\"]\n",
    "print(len(animals))"
   ]
  },
  {
   "cell_type": "code",
   "execution_count": 55,
   "metadata": {},
   "outputs": [
    {
     "name": "stdout",
     "output_type": "stream",
     "text": [
      "girafe\n",
      "tigre\n",
      "['singe', 'cat']\n",
      "mouse\n"
     ]
    }
   ],
   "source": [
    "animals = [\"girafe\", \"tigre\", [\"singe\", \"cat\"], \"mouse\"]\n",
    "\n",
    "for i in range(len(animals)):\n",
    "    print(animals[i])\n"
   ]
  },
  {
   "cell_type": "code",
   "execution_count": 57,
   "metadata": {},
   "outputs": [
    {
     "name": "stdout",
     "output_type": "stream",
     "text": [
      "girafe\n",
      "tigre\n",
      "['singe', 'cat']\n",
      "mouse\n"
     ]
    }
   ],
   "source": [
    "animals = [\"girafe\", \"tigre\", [\"singe\", \"cat\"], \"mouse\"]\n",
    "\n",
    "for animal in animals:\n",
    "    print(animal)"
   ]
  },
  {
   "cell_type": "code",
   "execution_count": 58,
   "metadata": {},
   "outputs": [
    {
     "name": "stdout",
     "output_type": "stream",
     "text": [
      "(0, 'girafe')\n",
      "(1, 'tigre')\n",
      "(2, ['singe', 'cat'])\n",
      "(3, 'mouse')\n"
     ]
    }
   ],
   "source": [
    "animals = [\"girafe\", \"tigre\", [\"singe\", \"cat\"], \"mouse\"]\n",
    "\n",
    "for animal in enumerate(animals):\n",
    "    print(animal)"
   ]
  },
  {
   "cell_type": "code",
   "execution_count": null,
   "metadata": {},
   "outputs": [],
   "source": [
    "animals = [\"girafe\", \"tigre\", [\"singe\", \"cat\"], \"mouse\"]\n",
    "\n",
    "for animal in enumerate(animals):\n",
    "    print(animal)"
   ]
  }
 ],
 "metadata": {
  "kernelspec": {
   "display_name": "Python 3.10.4 64-bit",
   "language": "python",
   "name": "python3"
  },
  "language_info": {
   "codemirror_mode": {
    "name": "ipython",
    "version": 3
   },
   "file_extension": ".py",
   "mimetype": "text/x-python",
   "name": "python",
   "nbconvert_exporter": "python",
   "pygments_lexer": "ipython3",
   "version": "3.10.4"
  },
  "orig_nbformat": 4,
  "vscode": {
   "interpreter": {
    "hash": "1aaa4c0a7ae47a6be27a008c8243a275ca16fe34808101a702ca972a1e462bee"
   }
  }
 },
 "nbformat": 4,
 "nbformat_minor": 2
}
